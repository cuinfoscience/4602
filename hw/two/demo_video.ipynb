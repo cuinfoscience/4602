{
 "cells": [
  {
   "cell_type": "markdown",
   "metadata": {},
   "source": [
    "# INFO-4604/5604 HW2: Linear Classification \n",
    "\n",
    "### Solution by: Michael Paul\n",
    "\n",
    "#### Important: Do not distribute this solution outside of this class. Doing so is a violation of the Academic Integrity policy."
   ]
  },
  {
   "cell_type": "markdown",
   "metadata": {},
   "source": [
    "## Assignment overview\n",
    "\n",
    "In this assignment, you will build a classifier that tries to infer whether tweets from [@realDonaldTrump](https://twitter.com/realDonaldTrump) were written by Trump himself or by a staff person.\n",
    "This is an example of binary classification on a text dataset. \n",
    "\n",
    "It is known that Donald Trump uses an Android phone, and it has been observed that some of his tweets come from Android while others come from other devices (most commonly iPhone). It is widely believed that Android tweets are written by Trump himself, while iPhone tweets are written by other staff. For more information, you can read this [blog post by David Robinson](http://varianceexplained.org/r/trump-tweets/), written prior to the election, which finds a number of differences in the style and timing of tweets published under these two devices. (Some tweets are written from other devices, but for simplicity the dataset for this assignment is restricted to these two.)\n",
    "\n",
    "This is a classification task known as \"authorship attribution\", which is the task of inferring the author of a document when the authorship is unknown. We will see how accurately this can be done with linear classifiers using word features.\n",
    "\n",
    "You will need `sklearn` version 0.19 for this assignment.\n",
    "\n",
    "### What to hand in\n",
    "\n",
    "You will submit the assignment on Canvas. Submit a single Jupyter notebook named `hw2lastname.ipynb`, where lastname is replaced with your last name.\n",
    "\n",
    "If you have any output that is not part of your notebook, you may submit that as a separate document, in a single PDF named `hw2lastname.pdf`. For example, this assignment requires you to create plots. You could do it directly with python using [matplotlib](https://matplotlib.org/), but if you wanted to create them using other software, that's acceptable as long as you put all of the figures in a single document and you clearly label them with the corresponding deliverable number.\n",
    "\n",
    "When writing code in this notebook, you are encouraged to create additional cells in whatever way makes the presentation more organized and easy to follow. You are allowed to import additional Python libraries.\n",
    "\n",
    "### Submission policies\n",
    "\n",
    "- **Collaboration:** You are allowed to work with up to 3 people besides yourself. You are still expected to write up your own solution. Each individual must turn in their own submission, and list your collaborators after your name.\n",
    "- **Late submissions:** We allow each student to use up to 5 late days over the semester. You have late days, not late hours. This means that if your submission is late by any amount of time past the deadline, then this will use up a late day. If it is late by any amount beyond 24 hours past the deadline, then this will use a second late, and so on. Once you have used up all late days, late assignments will be given at most 80% credit after one day and 60% credit after two days.\n"
   ]
  },
  {
   "cell_type": "markdown",
   "metadata": {},
   "source": [
    "## Getting started\n",
    "\n",
    "In this assignment, you will experiment with perceptron and logistic regression in `sklearn`. Much of the code has already been written for you. We will use a class called `SGDClassifier` (which you should read about in the [sklearn documentation](http://scikit-learn.org/stable/modules/generated/sklearn.linear_model.SGDClassifier.html)), which  implements stochastic gradient descent (SGD) for a variety of loss functions, including both perceptron and logistic regression, so this will be a way to easily move between the two classifiers.\n",
    "\n",
    "The code below will load the datasets. There are two data collections: the \"training\" data, which contains the tweets that you will use for training the classifiers, and the \"testing\" data, which are tweets that you will use to measure the classifier accuracy. The test tweets are instances the classifier has never seen before, so they are a good way to see how the classifier will behave on data it hasn't seen before. However, we still know the labels of the test tweets, so we can measure the accuracy.\n",
    "\n",
    "For this problem, we will use what are called \"bag of words\" features, which are commonly used when doing classification with text. Each feature is a word, and the value of a feature for a particular tweet is number of times the word appears in the tweet (with value $0$ if the word does not appear in the tweet).\n",
    "\n",
    "Run the block of code below to load the data. You don't need to do anything yet. Move on to \"Problem 1\" next."
   ]
  },
  {
   "cell_type": "code",
   "execution_count": 1,
   "metadata": {},
   "outputs": [],
   "source": [
    "import pandas as pd\n",
    "import numpy as np\n",
    "from sklearn.feature_extraction.text import CountVectorizer\n",
    "\n",
    "df_train = pd.read_csv('http://cmci.colorado.edu/classes/INFO-4604/data/tweets.train.tsv', sep='\\t', header=None)\n",
    "\n",
    "Y_train = df_train.iloc[0:, 0].values\n",
    "text_train = df_train.iloc[0:, 1].values\n",
    "\n",
    "vec = CountVectorizer()\n",
    "X_train = vec.fit_transform(text_train)\n",
    "feature_names = np.asarray(vec.get_feature_names())\n",
    "\n",
    "df_test = pd.read_csv('http://cmci.colorado.edu/classes/INFO-4604/data/tweets.test.tsv', sep='\\t', header=None)\n",
    "Y_test = df_test.iloc[0:, 0].values\n",
    "text_test = df_test.iloc[0:, 1].values\n",
    "\n",
    "X_test = vec.transform(text_test)"
   ]
  },
  {
   "cell_type": "markdown",
   "metadata": {},
   "source": [
    "## Problem 1: Understand the data [6 points]\n",
    "\n",
    "Before doing anything else, take time to understand the code above.\n",
    "\n",
    "The variables `df_train` and `df_test` are dataframes that store the training (and testing) datasets, which are contained in tab-separated files where the first column is the label and the second column is the text of the tweet.\n",
    "\n",
    "The [`CountVectorizer`](http://scikit-learn.org/stable/modules/generated/sklearn.feature_extraction.text.CountVectorizer.html) class converts the raw text into a bag-of-words into a feature vector representation that `sklearn` can use.\n",
    "\n",
    "You should print out the values of the variables and write any other code needed to answer the following questions.\n",
    "\n",
    "#### Deliverable 1.1: How many training instances are in the dataset? How many test instances?\n",
    "\n",
    "2593 training instances, 185 test instances\n",
    "\n",
    "#### Deliverable 1.2: How many features are in the training data?\n",
    "\n",
    "4829 unique features\n",
    "\n",
    "#### Deliverable 1.3: What is the distribution of labels in the training data? That is, what percentage of instances are 'Android' versus 'iPhone'?\n",
    "\n",
    "51.6% Android, 48.4% iPhone"
   ]
  },
  {
   "cell_type": "code",
   "execution_count": 2,
   "metadata": {},
   "outputs": [
    {
     "name": "stdout",
     "output_type": "stream",
     "text": [
      "2593 185\n",
      "4829\n",
      "0.5163902815271886 0.4836097184728114\n"
     ]
    }
   ],
   "source": [
    "# 1.1\n",
    "\n",
    "num_train = len(Y_train)\n",
    "num_test = len(Y_test)\n",
    "print(num_train, num_test)\n",
    "\n",
    "# 1.2\n",
    "\n",
    "print(len(feature_names))\n",
    "\n",
    "# 1.3\n",
    "\n",
    "num_android = len([y for y in Y_train if y == \"Android\"])\n",
    "num_iphone = len([y for y in Y_train if y == \"iPhone\"])\n",
    "\n",
    "print(num_android / num_train, num_iphone / num_train)"
   ]
  },
  {
   "cell_type": "markdown",
   "metadata": {},
   "source": [
    "## Problem 2: Perceptron [6 points]\n",
    "\n",
    "The code below trains an [`SGDClassifier`](http://scikit-learn.org/stable/modules/generated/sklearn.linear_model.SGDClassifier.html) using the perceptron loss, then it measures the accuracy of the classifier on the test data, using `sklearn`'s [`accuracy_score`](http://scikit-learn.org/stable/modules/generated/sklearn.metrics.accuracy_score.html) function. \n",
    "\n",
    "The `fit` function trains the classifier. The feature weights are stored in the `coef_` variable after training. The `predict` function of the trained `SGDClassifier` outputs the predicted label for a given instance or list of instances.\n",
    "\n",
    "Additionally, this code displays the features and their weights in sorted order, which you may want to examine to understand what the classifier is learning. In this dataset, the $\\textrm{Android}$ class is considered the \"negative\" class because it comes first in the data.\n",
    "\n",
    "There are 3 keyword arguments that have been added to the code below. It is important you keep the same values of these arguments whenever you create an `SGDClassifier` instance in this assignment so that you get consistent results. They are:\n",
    "\n",
    "- `max_iter` is one of the stopping criteria, which is the maximum number of iterations/epochs the algorithm will run for.\n",
    "\n",
    "- `tol` is the other stopping criterion, which is how small the difference between the current loss and previous loss should be before stopping.\n",
    "\n",
    "- `random_state` is a seed for pseudorandom number generation. The algorithm uses randomness in the way the training data are sorted, which will affect the solution that is learned, and even the accuracy of that solution.\n",
    "\n",
    "Wait a minute $-$ in class we learned that the loss function is convex, so the algorithm will find the same minimum regardless of how it is trained. Why is there random variation in the output? The reason is that even though there is only one minimum value of the loss, there may be different weights that result in the same loss, so randomness is a matter of tie-breaking. What's more, while different weights may have the same loss, they could lead to different classification accuracies, because the loss function is not the same as accuracy. (Unless accuracy was your loss function... which is possible, but uncommon because it turns out to be a difficult function to optimize.)\n",
    "\n",
    "Note that different computers may still give different answers, despite keeping these settings the same, because of how pseudorandom numbers are generated with different operating systems and Python environments. \n",
    "\n",
    "To begin, run the code in the cell below without modification.\n",
    "\n",
    "#### Deliverable 2.1: Based on the training accuracy, do you conclude that the data are linearly separable? Why or why not?\n",
    "\n",
    "The training accuracy is less than 100%, meaning that some instances are still on the wrong side of the boundary. We therefore conclude they are **not** linearly separable.\n",
    "\n",
    "#### Deliverable 2.2: Which feature most increases the likelihood that the class is 'Android' and which feature most increases the likelihood that the class is 'iPhone'? \n",
    "\n",
    "The feature '00' most increases the likelihood of 'Android' while the feature '\\_url\\_' most increases the likelihood of 'iPhone'.\n",
    "\n",
    "<br />\n",
    "\n",
    "One technique for improving the resulting model with perceptron (or stochastic gradient descent learning in general) is to take an average of the weight vectors learned at different iterations of the algorithm, rather than only using the final weights that minimize the loss. That is, calculate $\\bar{\\mathbf{w}} = \\sum_{t=1}^T \\mathbf{w}^{(t)}$ where $\\mathbf{w}^{(t)}$ is the weight vector at iteration $t$ of the algorithm and $T$ is the number of iterations, and then use $\\bar{\\mathbf{w}}$ when making classifications on new data.\n",
    "\n",
    "To use this technique in your classifier, add the keyword argument `average=True` to the `SGDClassifier` function. Try it now.\n",
    "\n",
    "#### Deliverable 2.3: Compare the initial training/test accuracies to the training/test accuracies after doing averaging. What happens? Why do you think averaging the weights from different iterations has this effect?\n",
    "\n",
    "When doing averaging, the training accuracy decreases slightly, but the test accuracy increases. This behavior usually indicates that you are reducing overfitting. You should observe that doing averaging is adding a bias to the estimate (since the final weights are the best weights $-$ the ones that minimize loss $-$ so doing something else is going to be a biased estimate). One possible explanation for why this improves test accuracy is that the averaging procedure \"smooths\" out the weights and reduces extreme values, leading to better generalization.\n"
   ]
  },
  {
   "cell_type": "code",
   "execution_count": 3,
   "metadata": {},
   "outputs": [
    {
     "name": "stdout",
     "output_type": "stream",
     "text": [
      "Number of SGD iterations: 38\n",
      "Training accuracy: 0.997300\n",
      "Testing accuracy: 0.864865\n",
      "\n",
      "Feature weights:\n"
     ]
    }
   ],
   "source": [
    "from sklearn.linear_model import SGDClassifier\n",
    "from sklearn.metrics import accuracy_score, precision_score\n",
    "\n",
    "classifier = SGDClassifier(loss='perceptron', max_iter=1000, tol=1.0e-12, random_state=123, eta0=100)\n",
    "classifier.fit(X_train, Y_train)\n",
    "\n",
    "print(\"Number of SGD iterations: %d\" % classifier.n_iter_)\n",
    "print(\"Training accuracy: %0.6f\" % accuracy_score(Y_train, classifier.predict(X_train)))\n",
    "print(\"Testing accuracy: %0.6f\" % accuracy_score(Y_test, classifier.predict(X_test)))\n",
    "\n",
    "print(\"\\nFeature weights:\")\n",
    "args = np.argsort(classifier.coef_[0])\n",
    "#for a in args:\n",
    "#    print(\" %s: %0.4f\" % (feature_names[a], classifier.coef_[0][a]))"
   ]
  },
  {
   "cell_type": "markdown",
   "metadata": {},
   "source": [
    "## Problem 3: Logistic regression [15 points]\n",
    "\n",
    "For this problem, create a new `SGDClassifier`, this time setting the `loss` argument to `'log'`, which will train a logistic regression classifier. Set `average=False` for the remaining problems.\n",
    "\n",
    "Once you have trained the classifier, you can use the `predict` function to get the classifications, as with perceptron. Additionally, logistic regression provides probabilities for the predictions. You can get the probabilities by calling the `predict_proba` function. This will give a list of two numbers; the first is the probability that the class is $\\textrm{Android}$ and the second is the probability that the class is $\\textrm{iPhone}$.\n",
    "\n",
    "\n",
    "For the first task, add the keyword argument `alpha` to the `SGDClassifier` function. This is the regularization strength, called $\\lambda$ in lecture. If you don't specify `alpha`, it defaults to $0.0001$. Experiment with other values and see how this affects the outcome.\n",
    "\n",
    "#### Deliverable 3.1: Calculate the training and testing accuracy when `alpha` is one of $[0.0001, 0.001, 0.01, 0.1, 1.0, 10.0, 100.0]$. Create a plot where the x-axis is `alpha` and the y-axis is accuracy, with two lines (one for training and one for testing). You can borrow the code from HW1 for generating plots in Python. Use [a log scale for the x-axis](https://matplotlib.org/examples/pylab_examples/log_demo.html) so that the `alpha` values are spaced evenly.\n",
    "\n",
    "[below]\n",
    "\n",
    "#### Deliverable 3.2: Examine the classifier probabilities using the `predict_proba` function when training with different values of `alpha`. What do you observe? How does `alpha` affect the prediction probabilities, and why do you think this happens?\n",
    "\n",
    "The probabilities get closer to uniform as alpha gets larger. This can be seen below in the probabilities of the first test instance that are printed out in the loop over alpha values. The reason is that increasing alpha increases the regularization term which encourages weights to be closer to 0, and scores of 0 yield probabilities of 0.5. Another way to think about it is that higher regularization decreases the classifier's certainty, so the probabilities are less extreme.\n",
    "\n",
    "<br />\n",
    "\n",
    "Now remove the `alpha` argument so that it goes back to the default value. We'll now look at the effect of the learning rate. By default, `sklearn` uses an \"optimal\" learning rate based on some heuristics that work well for many problems. However, it can be good to see how the learning rate can affect the algorithm.\n",
    "\n",
    "For this task, add the keyword argument `learning_rate` to the `SGDClassifier` function and set the value to `invscaling`. This defines the learning rate at iteration $t$ as: $\\eta_t = \\frac{\\eta_0}{t^a}$, where $\\eta_0$ and $a$ are both arguments you have to define in the `SGDClassifier` function, called `eta0` and `power_t`, respectively. Experiment with different values of `eta0` and `power_t` and see how they affect the number of iterations it takes the algorithm to converge. You will often find that it will not finish within the maximum of $1000$ iterations.\n",
    "\n",
    "#### Deliverable 3.3: Fill in the table below with the number of iterations for values of `eta0` in $[10.0, 100.0, 1000.0, 10000.0]$ and values of `power_t` in $[0.5, 1.0, 2.0]$. You may find it easier to write python code that can output the markdown for the table, but if you do that place the output here. If it does not converge within the maximum number of iterations (set to $1000$ by `max_iter`), record $1000$ as the number of iterations.\n",
    "\n",
    "| `eta0`   | `power_t` | # Iterations |\n",
    "|-----------|-----------|--------------|\n",
    "|$10$ | $0.500000$ | $42$ | \n",
    "|$10$ | $1.000000$ | $1000$ | \n",
    "|$10$ | $2.000000$ | $1000$ | \n",
    "|$100$ | $0.500000$ | $9$ | \n",
    "|$100$ | $1.000000$ | $1000$ | \n",
    "|$100$ | $2.000000$ | $1000$ | \n",
    "|$1000$ | $0.500000$ | $8$ | \n",
    "|$1000$ | $1.000000$ | $1000$ | \n",
    "|$1000$ | $2.000000$ | $1000$ | \n",
    "|$10000$ | $0.500000$ | $7$ | \n",
    "|$10000$ | $1.000000$ | $25$ | \n",
    "|$10000$ | $2.000000$ | $1000$ | \n",
    "\n",
    "#### Deliverable 3.4: Describe how `eta0` and `power_t` affect the learning rate based on the formula (e.g., if you increase `power_t`, what will this do to the learning rate?), and connect this to what you observe in the table above.\n",
    "\n",
    "Increasing `eta0` increases the learning rate by a constant amount in each iteration, since it is in the numerator.\n",
    "Increasing `power_t` decreases the learning rate since it is in the denominator, and the learning rate decreases exponentially. From the table in 3.3, it appears that having a learning rate that is too small and decreases too quickly makes the algorithm need more iterations to converge. The algorithm mostly only converges within the limit when `power_t` is 0.5, though an exception can be seen in the second-to-last row, where `eta0` is larger enough to \"make up\" for the rapid decrease caused by setting `power_t` to 1.0.\n",
    "   \n",
    "<br />\n",
    "\n",
    "Now remove the `learning_rate`, `eta0`, and `power_t` arguments so that the learning rate returns to the default setting. For this final task, we will experiment with how high the probabiity must be before an instance is classified as positive.\n",
    "\n",
    "The code below includes a function called `threshold` which takes as input the classification probabilities of the data (called `probs`, which is given by the function `predict_proba`) and a threshold (called `tau`, a scalar that should be a value between $0$ and $1$). It will classify each instance as $\\textrm{Android}$ if the probability of being $\\textrm{Android}$ is greater than `tau`, otherwise it will classify the instance as $\\textrm{iPhone}$. Note that if you set `tau` to $0.5$, the `threshold` function should give you exactly the same output as the classifier `predict` function.\n",
    "\n",
    "You should find that increasing the threshold causes the accuracy to drop. This makes sense, because you are classifying some things as $\\textrm{iPhone}$ even though it's more probable that they are $\\textrm{Android}$. So why do this? Suppose you care more about accurately identifying the $\\textrm{Android}$ tweets and you don't care as much about `iPhone` tweets. You want to be confident that when you classify a tweet as $\\textrm{Android}$ that it really is $\\textrm{Android}$.\n",
    "\n",
    "There is a metric called _precision_ which measures something like accuracy but for one specific class. Whereas accuracy is the percentage of tweets that were correctly classified, the precision of $\\textrm{Android}$ would be the percentage of tweets classified as $\\textrm{Android}$ that were correctly classified. (In other words, the number of tweets classified as $\\textrm{Android}$ whose correct label was $\\textrm{Android}$, divided by the number of tweets classified as $\\textrm{Android}$.)\n",
    "\n",
    "You can use the [`precision_score`](http://scikit-learn.org/stable/modules/generated/sklearn.metrics.precision_score.html#sklearn.metrics.precision_score) function from `sklearn` to calculate the precision. It works just like the `accuracy_score` function, except you have to add an additional keyword argument, `pos_label='Android'`, which tells it that $\\textrm{Android}$ is the class you want to calculate the precision of.\n",
    "\n",
    "#### Deliverable 3.5: Calculate the testing precision when the value of `tau` for thresholding is one of $[0.5, 0.6, 0.7, 0.8, 0.9, 0.95, 0.99]$. Create a plot where the x-axis is `tau` and the y-axis is precision.\n",
    "\n",
    "[below]\n",
    "\n",
    "#### Deliverable 3.6: Describe what you observe with thresholding (e.g., what happens to precision as the threshold increases?), and explain why you think this happens.\n",
    "\n",
    "In general, precision increases as the threshold increases. The reason is that the classifier only makes 'Android' predictions if it has high confidence that the class is \"Android\" (with a high probability, defined by `tau`), so it is more likely to be correct on the instances it classifies as Android."
   ]
  },
  {
   "cell_type": "code",
   "execution_count": 4,
   "metadata": {},
   "outputs": [
    {
     "data": {
      "image/png": "[encoded data removed]",
      "text/plain": [
       "<Figure size 432x288 with 1 Axes>"
      ]
     },
     "metadata": {
      "needs_background": "light"
     },
     "output_type": "display_data"
    }
   ],
   "source": [
    "import matplotlib.pyplot as plt\n",
    "\n",
    "acc_train = []\n",
    "acc_test = []\n",
    "\n",
    "alphas = [.0001, .001, .01, .1, 1., 10., 100.]\n",
    "for a in alphas:\n",
    "\n",
    "    classifier = SGDClassifier(loss='log', alpha=a, max_iter=1000, tol=1.0e-12, random_state=123)\n",
    "    classifier.fit(X_train, Y_train)\n",
    "    \n",
    "    acc_train.append(accuracy_score(Y_train, classifier.predict(X_train)))\n",
    "    acc_test.append(accuracy_score(Y_test, classifier.predict(X_test)))\n",
    "\n",
    "# use the documentation to make a semilog plot \n",
    "# https://matplotlib.org/3.1.1/api/_as_gen/matplotlib.pyplot.semilogx.html\n",
    "plt.semilogx(alphas, acc_train, label='Training')\n",
    "plt.semilogx(alphas, acc_test, label='Test')\n",
    "\n",
    "plt.xlabel('Alpha')\n",
    "plt.ylabel('Accuracy')\n",
    "plt.legend(loc='upper right')\n",
    "\n",
    "plt.show()"
   ]
  },
  {
   "cell_type": "code",
   "execution_count": 5,
   "metadata": {},
   "outputs": [
    {
     "name": "stdout",
     "output_type": "stream",
     "text": [
      "|$10$ | $0.500000$ | $96$ | \n"
     ]
    },
    {
     "name": "stderr",
     "output_type": "stream",
     "text": [
      "/opt/anaconda3/envs/INFO4604/lib/python3.8/site-packages/sklearn/linear_model/_stochastic_gradient.py:570: ConvergenceWarning: Maximum number of iteration reached before convergence. Consider increasing max_iter to improve the fit.\n",
      "  warnings.warn(\"Maximum number of iteration reached before \"\n"
     ]
    },
    {
     "name": "stdout",
     "output_type": "stream",
     "text": [
      "|$10$ | $1.000000$ | $1000$ | \n",
      "|$10$ | $2.000000$ | $1000$ | \n",
      "|$100$ | $0.500000$ | $15$ | \n",
      "|$100$ | $1.000000$ | $1000$ | \n",
      "|$100$ | $2.000000$ | $1000$ | \n",
      "|$1000$ | $0.500000$ | $45$ | \n",
      "|$1000$ | $1.000000$ | $1000$ | \n",
      "|$1000$ | $2.000000$ | $1000$ | \n",
      "|$10000$ | $0.500000$ | $40$ | \n",
      "|$10000$ | $1.000000$ | $14$ | \n",
      "|$10000$ | $2.000000$ | $1000$ | \n"
     ]
    }
   ],
   "source": [
    "# Solution to 3.3\n",
    "# Note that I am printing out the table in Markdown format,\n",
    "# so it can be easily copied into the answer cell above.\n",
    "\n",
    "for i in [10, 100, 1000, 10000]:\n",
    "    for j in [0.5, 1., 2.]:\n",
    "        classifier = SGDClassifier(loss='log', learning_rate='invscaling', eta0=i, power_t=j, max_iter=1000, tol=1.0e-12, random_state=123)\n",
    "        classifier.fit(X_train, Y_train)\n",
    "        \n",
    "        print(\"|$%d$ | $%f$ | $%d$ | \" % (i, j, classifier.n_iter_))"
   ]
  },
  {
   "cell_type": "code",
   "execution_count": 6,
   "metadata": {},
   "outputs": [
    {
     "data": {
      "image/png": "[encoded data removed]",
      "text/plain": [
       "<Figure size 432x288 with 1 Axes>"
      ]
     },
     "metadata": {
      "needs_background": "light"
     },
     "output_type": "display_data"
    }
   ],
   "source": [
    "# use this function for deliverable 3.5\n",
    "def threshold(probs, tau):\n",
    "    return np.where(probs[:,0] > tau, 'Android', 'iPhone')\n",
    "\n",
    "# your logistic regression code here\n",
    "\n",
    "classifier = SGDClassifier(loss='log', max_iter=1000, tol=1.0e-12, random_state=123)\n",
    "classifier.fit(X_train, Y_train)\n",
    "\n",
    "taus = [.5, .6, .7, .8, .9, .95, .99]\n",
    "\n",
    "precs = []\n",
    "for t in taus:\n",
    "    precs.append(precision_score(Y_test, threshold(classifier.predict_proba(X_test), t), pos_label=\"Android\"))\n",
    "\n",
    "plt.plot(taus, precs)\n",
    "\n",
    "plt.xlabel('Tau')\n",
    "plt.ylabel('Precision')\n",
    "\n",
    "plt.show()"
   ]
  },
  {
   "cell_type": "code",
   "execution_count": null,
   "metadata": {},
   "outputs": [],
   "source": []
  },
  {
   "cell_type": "markdown",
   "metadata": {},
   "source": [
    "## Problem 4: Sparse learning [5604: 5 points; 4604: +3 EC points]\n",
    "\n",
    "Add the `penalty` argument to `SGDClassifier` and set the value to `'l1'`, which tells the algorithm to use L1 regularization instead of the default L2. Recall from lecture that L1 regularization encourages weights to stay at exactly $0$, resulting in a more \"sparse\" model than L2. You should see this effect if you examine the values of `classifier.coef_`.\n",
    "\n",
    "#### Deliverable 4.1: Write a function to calculate the number of features whose weights are nonzero when using L1 regularization. Calculate the number of nonzero feature weights when `alpha` is one of $[0.00001, 0.0001, 0.001, 0.01, 0.1]$. Create a plot where the x-axis is `alpha` and the y-axis is the number of nonzero weights, using a log scale for the x-axis.\n",
    "\n",
    "[below]"
   ]
  },
  {
   "cell_type": "code",
   "execution_count": 7,
   "metadata": {},
   "outputs": [
    {
     "data": {
      "image/png": "[encoded data removed]",
      "text/plain": [
       "<Figure size 432x288 with 1 Axes>"
      ]
     },
     "metadata": {
      "needs_background": "light"
     },
     "output_type": "display_data"
    }
   ],
   "source": [
    "alphas = [.00001, .0001, .001, .01, .1]\n",
    "nonzeros = []\n",
    "for a in alphas:\n",
    "    classifier = SGDClassifier(loss='log', penalty='l1', alpha=a, max_iter=1000, tol=1.0e-12, random_state=123)\n",
    "    classifier.fit(X_train, Y_train)\n",
    "    \n",
    "    nonzeros.append(sum(np.where(classifier.coef_[0] != 0., 1, 0)))\n",
    "    \n",
    "plt.semilogx(alphas, nonzeros)\n",
    "\n",
    "plt.xlabel('Alpha')\n",
    "plt.ylabel('Number of nonzero weights')\n",
    "\n",
    "plt.show()"
   ]
  },
  {
   "cell_type": "code",
   "execution_count": null,
   "metadata": {},
   "outputs": [],
   "source": []
  }
 ],
 "metadata": {
  "kernelspec": {
   "display_name": "Python 3",
   "language": "python",
   "name": "python3"
  },
  "language_info": {
   "codemirror_mode": {
    "name": "ipython",
    "version": 3
   },
   "file_extension": ".py",
   "mimetype": "text/x-python",
   "name": "python",
   "nbconvert_exporter": "python",
   "pygments_lexer": "ipython3",
   "version": "3.8.5"
  }
 },
 "nbformat": 4,
 "nbformat_minor": 2
}
