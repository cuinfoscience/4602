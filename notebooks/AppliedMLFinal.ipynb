{
 "cells": [
  {
   "cell_type": "markdown",
   "metadata": {},
   "source": [
    "## Intro\n",
    "\n",
    "\n",
    "\n",
    "**This final assignment is similar to the midterm, but certain parts are different so please read the new instructions carefully to make sure you don't miss anything.**\n",
    "\n",
    "In this class, we have worked to understand both general principles of machine learning methods and specific details of particular machine learning techniques. For this project, you will apply what you have learned in this course to formulate and answer your own question, using ML.\n",
    "\n",
    "**Important:** Be sure to include code and answers in the correct cells of the notebook. Otherwise we might miss your answers.\n",
    "\n",
    "Please use this notebook to turn in your work. \n",
    "\n",
    "Points: 25\n",
    "\n",
    "You will be graded based on:\n",
    "1. __Technical completeness__. _(15 points)_ \n",
    "\n",
    "Did you meet the technical requirements for the project? For instance, did you describe hyperparameter tuning and include plots, where necessary.\n",
    "\n",
    "2. __Creativity and imagination__. _(5 points)_ \n",
    "\n",
    "Did you form an interesting, original and creative question, and explain why it is important to answer that question? \n",
    "\n",
    "3. __Presentation__. _(5 points)_ \n",
    "\n",
    "Did you do a good job presenting your results? Would your notebook make sense to a person who was not familiar with your project? You should take time to write clearly, simplify your code and explain what you are doing in your notebook. Make sure your plots are well-labeled and appropriately scaled. "
   ]
  },
  {
   "cell_type": "markdown",
   "metadata": {},
   "source": [
    "## Original question [instructions] \n",
    "\n",
    "_Unlike in the midterm project, for the final project you will be asked for formulate and answer an original question. As before, you should take time to explain why this question matters and how it fits with existing understanding of your topic. An original question is a question that you come up with on your own, rather than a question that is formulated for you. For instance, downloading a dataset from Kaggle and predicting the labels provided in the dataset is not asking an original question because Kaggle contributors have already defined the task for you._\n",
    "\n",
    "If you are stuck, here are some strategies for finding original questions:\n",
    "\n",
    "1. You might take an existing analysis and offer a new twist. For instance, you might start with a dataset used for [predicting the winners of NBA games](https://github.com/JakeKandell/NBA-Predict) and instead cluster the data to see if you can identify blowouts (when one a team wins by a lot). \n",
    "2. You might compare datasets in new ways. For instance, you might test if features that are good for predicting NBA games are also good for predicting NFL games, and then investigate why you might observe a difference.\n",
    "3. You might apply your own knowledge of a subject to ask a new question. For instance, if you know a lot about minor league baseball, this might help you ask interesting and original questions that others have not thought of before.\n",
    "4. Modify or expand existing work. You might start with a blog post or paper that shares data, and then extend or modify the existing study.\n",
    "5. Systematically analyze errors in an existing analysis. You might start with a blog post or paper that shares data, and then revisit and rexamine some of the questions with empirical tests using code to see if the author overlooked certain angles or drew unsubstantiated conclusions."
   ]
  },
  {
   "cell_type": "markdown",
   "metadata": {},
   "source": [
    "## Related work [required 5604, optional 4604 for 3 points extra credit] \n",
    "\n",
    "_One way to find an original question is to start by analyzing and considering related work. Using this cell, please summarize two research papers related to your question (one paragraph per paper). Be sure to link to the paper and list the title, authors and venue so that others can understand your work. For each paper, you should explain (1) what the authors found and (2) how their work informs your own question or approach._\n",
    "\n",
    "**Paper 1** \n",
    "\n",
    "**Paper 2** "
   ]
  },
  {
   "cell_type": "markdown",
   "metadata": {},
   "source": [
    "## Original question [answer] \n",
    "\n",
    "_Please write a clear and concise explanation of your original question_\n",
    "\n",
    "**This is a major part of the assignment. Please take time to carefully explain what is original about your question.**\n",
    "\n",
    "[Your answer here]"
   ]
  },
  {
   "cell_type": "markdown",
   "metadata": {},
   "source": [
    "## Midterm project expansion \n",
    "\n",
    "_You can expand your midterm project for the final project, but your final and midterm must be substantially different. For instance, if you expand your midterm, you must ask a new question, try new models, use new data, perform new error analysis, etc. If you are expanding your midterm project, you must explain the differences between your midterm and final below. Err on the side of caution; make sure your two projects are substantially different._\n",
    "\n",
    "**If your final is not an expansion of your midterm, then you can skip this part.**\n",
    "\n",
    "Your answer here"
   ]
  },
  {
   "cell_type": "markdown",
   "metadata": {},
   "source": [
    "## Data (writing)\n",
    "\n",
    "_Using this cell, please write a short, clear paragraph explaining what data you will use to answer your question. You do not need to go gather custom datasets for this class, although you are welcome to do so. Your data gathering must allow you to ask an original question, but you are not required to construct a custom data set. If applicable, describe how you plan to split between the training and test sets._\n",
    "\n",
    "Your answer here"
   ]
  },
  {
   "cell_type": "code",
   "execution_count": 1,
   "metadata": {},
   "outputs": [],
   "source": [
    "## Code for data preprocessing \n",
    "\n",
    "# Include your code to load, clean and split data in this cell. You must complete this step in the project."
   ]
  },
  {
   "cell_type": "markdown",
   "metadata": {},
   "source": [
    "## Model selection and tuning\n",
    "\n",
    "This section is similar to the midterm. \n",
    "\n",
    "_Using this cell, please write a short, clear paragraph explaining how you selected and tuned your model for the project. You must answer the following two questions in this cell (1) Why is your model an appropriate choice for your data? (2) What hyperparameters does your model have and how did you select them? (3) What features did you choose and why? You must engineer at least 1 feature_ \n",
    "\n",
    "Your answer here"
   ]
  },
  {
   "cell_type": "code",
   "execution_count": 2,
   "metadata": {},
   "outputs": [],
   "source": [
    "## Code for model selection and tuning + feature engineering\n",
    "\n",
    "# Include any code to select and tune your model in this cell. You must complete this step in the project."
   ]
  },
  {
   "cell_type": "code",
   "execution_count": 3,
   "metadata": {},
   "outputs": [],
   "source": [
    "## Plot or table \n",
    "\n",
    "# Include a plot or table explaining how you selected and tuned your model. You must complete this step in the project."
   ]
  },
  {
   "cell_type": "markdown",
   "metadata": {},
   "source": [
    "## Results\n",
    "\n",
    "This section is similar to the midterm. \n",
    "\n",
    "_Using this cell, please write a short, clear paragraph explaining your results. In this class, we have mostly focused on accuracy. It is OK to measure your results in another quantitative way (e.g. precision or likelihood). Whatever you pick, make sure you are clear on what you are doing, and make sure you explain why your measurement of success makes sense._\n",
    "\n",
    "Your answer here"
   ]
  },
  {
   "cell_type": "code",
   "execution_count": 1,
   "metadata": {},
   "outputs": [],
   "source": [
    "## Code \n",
    "\n",
    "# Include code showing how you arrived at your results. You must complete this step in the project."
   ]
  },
  {
   "cell_type": "code",
   "execution_count": 2,
   "metadata": {},
   "outputs": [],
   "source": [
    "## Plot or table \n",
    "\n",
    "# Include a plot or table explaining your results. You must complete this step in the project."
   ]
  },
  {
   "cell_type": "markdown",
   "metadata": {},
   "source": [
    "## Error analysis\n",
    "\n",
    "Please note the added instructions below. Some students made mistakes on error analysis for the midterm.\n",
    "\n",
    "_Using this cell, please write a short, clear paragraph explaining what errors your model seems to be making, and offer a brief explanation based on your code below._ \n",
    "\n",
    "**To get full credit for error analysis, it is not sufficient to simply report the performance of your model. You must analyze your model's output and form theories about why the model might be failing. Ideally, you should also test those theories by writing code or looking at examples to understand what is going on. To analyze errors, you might make a confusion matrix, sample misclassified data or analyze learned weights. Try to be systematic in understanding errors.**"
   ]
  },
  {
   "cell_type": "code",
   "execution_count": 1,
   "metadata": {},
   "outputs": [],
   "source": [
    "## Error analysis\n",
    "\n",
    "# Include code for error analysis here, to justify your conclusions. \n",
    "# You might make a confusion matrix, sample misclassified data, analyze learned weights, or use any other method \n",
    "# discussed in class, or which makes sense for your model"
   ]
  },
  {
   "cell_type": "markdown",
   "metadata": {},
   "source": [
    "## Discussion\n",
    "\n",
    "**5604 students be sure to describe how your findings relate to conclusions from prior work**\n",
    "\n",
    "_Using this cell, please write a short, clear paragraph describing how your results answer or do not answer your question. What new questions arise from your work?_\n",
    "\n",
    "Your answer here"
   ]
  },
  {
   "cell_type": "code",
   "execution_count": null,
   "metadata": {},
   "outputs": [],
   "source": []
  }
 ],
 "metadata": {
  "kernelspec": {
   "display_name": "Python 3",
   "language": "python",
   "name": "python3"
  },
  "language_info": {
   "codemirror_mode": {
    "name": "ipython",
    "version": 3
   },
   "file_extension": ".py",
   "mimetype": "text/x-python",
   "name": "python",
   "nbconvert_exporter": "python",
   "pygments_lexer": "ipython3",
   "version": "3.8.5"
  }
 },
 "nbformat": 4,
 "nbformat_minor": 4
}
