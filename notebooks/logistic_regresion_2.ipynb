{
 "cells": [
  {
   "cell_type": "code",
   "execution_count": 1,
   "metadata": {},
   "outputs": [],
   "source": [
    "%matplotlib inline\n",
    "\n",
    "import math\n",
    "import matplotlib.pyplot as plt\n",
    "import numpy as np\n",
    "import random\n",
    "import pandas as pd"
   ]
  },
  {
   "cell_type": "code",
   "execution_count": 2,
   "metadata": {},
   "outputs": [
    {
     "data": {
      "text/plain": [
       "[<matplotlib.lines.Line2D at 0x7fbc8dac7e20>]"
      ]
     },
     "execution_count": 2,
     "metadata": {},
     "output_type": "execute_result"
    },
    {
     "data": {
      "image/png": "[encoded data removed]",
      "text/plain": [
       "<Figure size 432x288 with 1 Axes>"
      ]
     },
     "metadata": {
      "needs_background": "light"
     },
     "output_type": "display_data"
    }
   ],
   "source": [
    "## Here is the logistic function, the activation function for logistic regression\n",
    "\n",
    "def logistic(z):\n",
    "    return 1/(1 + np.exp(-z))\n",
    "\n",
    "x, fz = [], []\n",
    "for z in range(-10, 10):\n",
    "    x.append(z)\n",
    "    fz.append(logistic(z))\n",
    "\n",
    "plt.plot(x, fz)"
   ]
  },
  {
   "cell_type": "markdown",
   "metadata": {},
   "source": [
    "1. What is the domain of the logistic function? \n",
    "\n",
    "[Type your answer here]\n",
    "\n",
    "2. What is the range of the logistic function?\n",
    "\n",
    "[Type your answer here]\n",
    "\n",
    "3. Why do you think the logistic function might be a convenient activation function for modeling probabilities?\n",
    "\n",
    "[Type your answer here]\n",
    "\n",
    "4. What is the denominator when z is very big? How about when z is very small?\n",
    "\n",
    "[Type your answer here]"
   ]
  },
  {
   "cell_type": "code",
   "execution_count": 3,
   "metadata": {},
   "outputs": [
    {
     "data": {
      "image/png": "[encoded data removed]",
      "text/plain": [
       "<Figure size 432x288 with 1 Axes>"
      ]
     },
     "metadata": {
      "needs_background": "light"
     },
     "output_type": "display_data"
    }
   ],
   "source": [
    "## Let's generate some features, weights and y values and compute the loss \n",
    "## This can help you build up intuition for what is happening\n",
    "\n",
    "def log_prob(z, y_i):\n",
    "    '''\n",
    "    Returns the log_prob for one point\n",
    "    '''\n",
    "    fz = logistic(z)\n",
    "    return y_i * np.log(fz) + (1 - y_i) * np.log(1 - fz)\n",
    "\n",
    "\n",
    "out = []\n",
    "\n",
    "dim_ = 10\n",
    "\n",
    "for _ in range(1000):\n",
    "    # generate some random weights \n",
    "    w = np.random.uniform(low=-2, high=2, size=dim_)\n",
    "    \n",
    "    # generate some random binary features \n",
    "    x = (np.random.rand(dim_) > .5).astype(int) \n",
    "    \n",
    "    # get the z score\n",
    "    z = w.dot(x)\n",
    "\n",
    "    # randomly assign y\n",
    "    y = 1 if random.random() < .5 else 0\n",
    "    \n",
    "    # compute the loss\n",
    "    loss = log_prob(z=z, y_i=y)\n",
    "    \n",
    "    # keep track of what is happening\n",
    "    out.append({\"z\": z, \"loss\": loss, \"label\": y})\n",
    "\n",
    "\n",
    "# Plot the results\n",
    "df = pd.DataFrame(out)\n",
    "    \n",
    "fig, ax = plt.subplots()\n",
    "ax.plot(df[df[\"label\"] == 1][\"z\"], df[df[\"label\"] == 1][\"loss\"], 'x', color=\"red\", label='1')\n",
    "ax.plot(df[df[\"label\"] == 0][\"z\"], df[df[\"label\"] == 0][\"loss\"], 'o', color=\"blue\", label='0')\n",
    "plt.xlabel(\"z\")\n",
    "plt.ylabel(\"log_prob\")\n",
    "plt.legend()\n",
    "plt.show()"
   ]
  },
  {
   "cell_type": "markdown",
   "metadata": {},
   "source": [
    "5. What is the log_prob when y=1 and z=-.25? Why does that make sense?\n",
    "\n",
    "[Type your answer here]\n",
    "\n",
    "6. What is the log_prob when y=0 and z=-.25? Why does that make sense?\n",
    "\n",
    "[Type your answer here]\n",
    "\n",
    "7 . Why is the log_prob always negative? \n",
    "\n",
    "[Type your answer here]"
   ]
  },
  {
   "cell_type": "code",
   "execution_count": 11,
   "metadata": {},
   "outputs": [
    {
     "name": "stdout",
     "output_type": "stream",
     "text": [
      "iter: 0, neg ll 3964.014956173719, accuracy 0.8775\n",
      "iter: 1, neg ll 3745.1115171690253, accuracy 0.8775\n",
      "iter: 2, neg ll 3573.5029821544235, accuracy 0.8775\n",
      "iter: 3, neg ll 3432.9986095668687, accuracy 0.8775\n",
      "iter: 4, neg ll 3314.092082583764, accuracy 0.8775\n",
      "iter: 5, neg ll 3210.8755639686574, accuracy 0.8775\n",
      "iter: 6, neg ll 3119.5015177927885, accuracy 0.8775\n",
      "iter: 7, neg ll 3037.363463869521, accuracy 0.8775\n",
      "iter: 8, neg ll 2962.6347865852, accuracy 0.8775\n",
      "iter: 9, neg ll 2893.9967426021867, accuracy 0.8775\n",
      "iter: 10, neg ll 2830.4716047347965, accuracy 0.8775\n",
      "iter: 11, neg ll 2771.3168002953607, accuracy 0.8775\n",
      "iter: 12, neg ll 2715.9557726185726, accuracy 0.8775\n",
      "iter: 13, neg ll 2663.9316753466437, accuracy 0.8775\n",
      "iter: 14, neg ll 2614.8756668588576, accuracy 0.8775\n",
      "iter: 15, neg ll 2568.484772910023, accuracy 0.8775\n",
      "iter: 16, neg ll 2524.506156984023, accuracy 0.9401\n",
      "iter: 17, neg ll 2482.7257647308, accuracy 0.9401\n",
      "iter: 18, neg ll 2442.960005492553, accuracy 0.9401\n",
      "iter: 19, neg ll 2405.049574894565, accuracy 0.9401\n",
      "iter: 20, neg ll 2368.8548076278953, accuracy 0.9401\n",
      "iter: 21, neg ll 2334.2521375290817, accuracy 0.9401\n",
      "iter: 22, neg ll 2301.1313681367506, accuracy 0.9401\n",
      "iter: 23, neg ll 2269.3935428301625, accuracy 0.9401\n",
      "iter: 24, neg ll 2238.949263015379, accuracy 0.9401\n",
      "iter: 25, neg ll 2209.717344384494, accuracy 0.9401\n",
      "iter: 26, neg ll 2181.623730694583, accuracy 0.9401\n",
      "iter: 27, neg ll 2154.600605556654, accuracy 0.9401\n",
      "iter: 28, neg ll 2128.585657926035, accuracy 0.9401\n",
      "iter: 29, neg ll 2103.521468040535, accuracy 0.9401\n",
      "iter: 30, neg ll 2079.3549886760143, accuracy 0.9401\n",
      "iter: 31, neg ll 2056.037102582621, accuracy 0.9401\n",
      "iter: 32, neg ll 2033.5222414218433, accuracy 0.9401\n",
      "iter: 33, neg ll 2011.7680548597514, accuracy 0.9401\n",
      "iter: 34, neg ll 1990.735120982639, accuracy 0.9401\n",
      "iter: 35, neg ll 1970.386691098206, accuracy 0.9401\n",
      "iter: 36, neg ll 1950.6884634307296, accuracy 0.9401\n",
      "iter: 37, neg ll 1931.6083813222897, accuracy 0.9401\n",
      "iter: 38, neg ll 1913.1164524089795, accuracy 0.9401\n",
      "iter: 39, neg ll 1895.1845858928166, accuracy 0.9401\n",
      "iter: 40, neg ll 1877.7864455530298, accuracy 0.9401\n",
      "iter: 41, neg ll 1860.8973165356379, accuracy 0.9401\n",
      "iter: 42, neg ll 1844.4939842880203, accuracy 0.9401\n",
      "iter: 43, neg ll 1828.5546242544858, accuracy 0.9401\n",
      "iter: 44, neg ll 1813.058701157447, accuracy 0.9401\n",
      "iter: 45, neg ll 1797.9868768517074, accuracy 0.9401\n",
      "iter: 46, neg ll 1783.3209258813813, accuracy 1.0\n"
     ]
    }
   ],
   "source": [
    "def neg_log_likelihood(X, w, y):\n",
    "    '''Compute the negative log likelihood'''\n",
    "    L = 0\n",
    "    for _x,_y in zip(X, y):\n",
    "        z = w.dot(_x)\n",
    "        L += log_prob(z=z, y_i=_y)\n",
    "    return -1 * L\n",
    "\n",
    "\n",
    "def fast_logistic(X, w):\n",
    "    '''Compute the logistic function over many datapoints'''\n",
    "    return 1/(1 + np.exp(-1 * X.dot(w)))\n",
    "\n",
    "\n",
    "def grad(X, w, y):\n",
    "    '''Return the gradient'''\n",
    "    grad = np.zeros_like(w)\n",
    "    for _x,_y in zip(X, y):\n",
    "        fz = logistic(w.dot(_x))\n",
    "        grad += _x * (_y - fz)\n",
    "    return grad    \n",
    "\n",
    "def grad_ascent(X, y, eta = .0001, tolerance=1e-4, verbose=True):\n",
    "    '''Perform gradient ascent'''\n",
    "    w = np.random.rand(dim_)\n",
    "    last = 0\n",
    "    for i in range(100000):\n",
    "        this_ll = neg_log_likelihood(X, w, y)\n",
    "        if verbose:\n",
    "            print(\"iter: {}, neg ll {}, accuracy {}\".format(i, this_ll, accuracy(X, w, y)))\n",
    "        if accuracy(X, w, y) == 1: break\n",
    "        if(abs(this_ll - last) < tolerance): break\n",
    "        last = this_ll\n",
    "        w += eta * grad(X, w, y)\n",
    "    return w\n",
    "\n",
    "def prediction(X, w, threshold=.5):\n",
    "    #return 0\n",
    "    return fast_logistic(X, w) > threshold\n",
    "\n",
    "def accuracy(X, w, y):\n",
    "    # return 0\n",
    "    return np.mean(prediction(X, w) == y)\n",
    "\n",
    "def init_data(N, dim_):\n",
    "    '''\n",
    "    Initialize data. Note how we generate y below. We know how the data is generated.\n",
    "    We should be able to \n",
    "    '''\n",
    "    w = np.random.uniform(low=-2, high=2, size=dim_)\n",
    "    X = (np.random.rand(dim_ * N) > .5).astype(int)\n",
    "    X = X.reshape(N, dim_)\n",
    "\n",
    "    z_ = X[:,0] * 2 +  X[:,1] * -2 +  X[:,2] * 3 + X[:,3] * 4\n",
    "\n",
    "    y =  1/(1 + np.exp(-1 * z_)) > .5\n",
    "    \n",
    "    return X, y\n",
    "\n",
    "N = 10000\n",
    "dim_ = 4\n",
    "X, y = init_data(N, dim_)\n",
    "w = grad_ascent(X, y, eta=.0001, tolerance=1e-2, verbose=True)"
   ]
  },
  {
   "cell_type": "code",
   "execution_count": 12,
   "metadata": {},
   "outputs": [
    {
     "name": "stdout",
     "output_type": "stream",
     "text": [
      "10.8 s ± 560 ms per loop (mean ± std. dev. of 7 runs, 1 loop each)\n"
     ]
    }
   ],
   "source": [
    "%timeit grad_ascent(X, y, eta=.0001, tolerance=1e-2, verbose=False)"
   ]
  },
  {
   "cell_type": "code",
   "execution_count": 13,
   "metadata": {},
   "outputs": [
    {
     "data": {
      "text/plain": [
       "array([ True,  True,  True, ...,  True,  True,  True])"
      ]
     },
     "execution_count": 13,
     "metadata": {},
     "output_type": "execute_result"
    }
   ],
   "source": [
    "prediction(X, w)"
   ]
  },
  {
   "cell_type": "markdown",
   "metadata": {},
   "source": [
    "Implement the accuracy function\n",
    "Implement the prediction function\n"
   ]
  },
  {
   "cell_type": "markdown",
   "metadata": {},
   "source": [
    "\n",
    "Is stochastic grad ascent faster?\n",
    "What is the advantage of stoch grad? \n",
    "Print out the weigts you learn. Look at init_data, z_. Why do the signs of the weights make sense?\n",
    "Why are the magnitudes of the weights and the "
   ]
  }
 ],
 "metadata": {
  "kernelspec": {
   "display_name": "Python 3",
   "language": "python",
   "name": "python3"
  },
  "language_info": {
   "codemirror_mode": {
    "name": "ipython",
    "version": 3
   },
   "file_extension": ".py",
   "mimetype": "text/x-python",
   "name": "python",
   "nbconvert_exporter": "python",
   "pygments_lexer": "ipython3",
   "version": "3.8.5"
  }
 },
 "nbformat": 4,
 "nbformat_minor": 4
}
