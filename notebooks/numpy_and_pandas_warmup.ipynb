{
 "cells": [
  {
   "cell_type": "markdown",
   "metadata": {},
   "source": [
    "## Intro \n",
    "\n",
    "In this notebook, we will:\n",
    "\n",
    "1. Get a little practice with [NumPy](https://numpy.org/) and [Pandas](https://pandas.pydata.org/)\n",
    "\n",
    "2. Keep building intuitions about the geometry of data\n",
    "\n",
    "3. Practice with vector notation and vector operations, and learn to type math notation in Jupyter notebooks\n",
    "\n",
    "All of that will get us ready for next week, when we will formalize our intuitions about geometric distance into mathematical formulas, which we will apply in towards our first ML method, K-nearest neighbors. "
   ]
  },
  {
   "cell_type": "code",
   "execution_count": 10,
   "metadata": {},
   "outputs": [],
   "source": [
    "# Step one: You should have numpy and pandas installed. If you used conda, you should already have these libraries\n",
    "\n",
    "# make sure this code runs \n",
    "import numpy\n",
    "import pandas\n",
    "\n",
    "# If numpy and pandas are totally new to you, I suggest doing a quick tutorial to get set up\n",
    "# There are many, many tutorials for these libraries available online. This course won't focus on \n",
    "# installing and using numpy and pandas."
   ]
  },
  {
   "cell_type": "code",
   "execution_count": 11,
   "metadata": {},
   "outputs": [],
   "source": [
    "import pandas as pd\n",
    "\n",
    "# this line tells Jupyter notebook to show plots in the notebook\n",
    "%matplotlib inline \n",
    "\n",
    "df = pd.read_csv(\"covid.csv\")  # import some data, available on canvas"
   ]
  },
  {
   "cell_type": "code",
   "execution_count": 3,
   "metadata": {},
   "outputs": [],
   "source": [
    "# Examine the dataframe and answer the following questions\n",
    "\n",
    "# 1. How many features are there?\n",
    "\n",
    "# 2. How many observations are there? \n",
    "\n",
    "# [Type your answer here]"
   ]
  },
  {
   "cell_type": "code",
   "execution_count": 4,
   "metadata": {},
   "outputs": [],
   "source": [
    "df_as_matrix = df.to_numpy() # This converts the pandas dataframe to a numpy library\n",
    "\n",
    "# What is the size of `df_as_matrix`? \n",
    "# The size of a matrix is the number of rows and columns in the matrix\n",
    "# hint: https://numpy.org/devdocs/reference/generated/numpy.shape.html\n",
    "\n",
    "# [Print code to answer here]"
   ]
  },
  {
   "cell_type": "code",
   "execution_count": 5,
   "metadata": {},
   "outputs": [],
   "source": [
    "# What does the 4th row of df_as_matrix represent? \n",
    "# - Remember that numbering starts at 0 so the 1st row has index 0. \n",
    "\n",
    "fourth_row = None \n",
    "# type your code here, filling the variable fourth_row\n",
    "\n",
    "# What does fourth_row represent, in the dataset? \n",
    "\n",
    "# [Type your answer here]"
   ]
  },
  {
   "cell_type": "code",
   "execution_count": 6,
   "metadata": {},
   "outputs": [],
   "source": [
    "# What is the 2nd column of df_as_matrix?  \n",
    "#  - Remember that numbering starts at 0, so the 1st row has index 0. \n",
    "\n",
    "# [type your code here]\n",
    "\n",
    "second_col = None \n",
    "\n",
    "# What second_col represent, in the dataset? \n",
    "\n",
    "# [Type your answer here]"
   ]
  },
  {
   "cell_type": "markdown",
   "metadata": {},
   "source": [
    "### Plotting states by population\n",
    "\n",
    "Now let's go ahead and plot states by population. Remember that population is just one dimension in the dataset. We're starting with population because it's *way* easier to think in one dimension than in, say, seven dimensions. However, by next week you will have tools to reason about data in an arbitrary number of dimensions."
   ]
  },
  {
   "cell_type": "code",
   "execution_count": 12,
   "metadata": {},
   "outputs": [],
   "source": [
    "import matplotlib.pyplot as plt\n",
    "\n",
    "# https://stackoverflow.com/questions/15943945/annotate-scatterplot-from-a-pandas-dataframe\n",
    "\n",
    "def plotdf1D(df_):\n",
    "    '''\n",
    "    YOU DONT NEED TO MODIFY THIS FUNCTION \n",
    "\n",
    "    This function makes a 1D scatter plot of the data, along the population dimension\n",
    "    '''\n",
    "    \n",
    "    plt.clf()\n",
    "    \n",
    "    df_ = df_.copy()\n",
    "    df_[\"_\"] = 0\n",
    "\n",
    "    plt.scatter(df_['population'],df_[\"_\"])\n",
    "    \n",
    "    plt.ylim(-.01, .01)\n",
    "    \n",
    "    plt.xlabel(\"Population (Millions)\")\n",
    "    \n",
    "    # zip joins x and y coordinates in pairs\n",
    "    for x,y,z in zip(df_[\"population\"], df_[\"_\"], df_[\"state/region\"]):\n",
    "\n",
    "        plt.yticks(color='w')\n",
    "\n",
    "        plt.annotate(z, # this is the text\n",
    "                     (x,y), # this is the point to label\n",
    "                     textcoords=\"offset points\", # how to position the text\n",
    "                     xytext=(0,10), # distance from text to points (x,y)\n",
    "                     ha='center') # horizontal alignment can be left, right or center\n",
    "    plt.show()"
   ]
  },
  {
   "cell_type": "code",
   "execution_count": 13,
   "metadata": {},
   "outputs": [
    {
     "data": {
      "image/png": "[encoded data removed]",
      "text/plain": [
       "<Figure size 432x288 with 1 Axes>"
      ]
     },
     "metadata": {},
     "output_type": "display_data"
    }
   ],
   "source": [
    "# Try plotting all of the states by population. \n",
    "# The plot is a bit crowded. \n",
    "plotdf1D(df)"
   ]
  },
  {
   "cell_type": "code",
   "execution_count": 14,
   "metadata": {},
   "outputs": [],
   "source": [
    "# Filter your dataframe to states with fewer than 1M people\n",
    "# hint: this requires filtering the dataframe with pandas\n",
    "\n",
    "less_than_1M = None # this variable should be a dataframe of states with fewer than 1M people\n",
    "\n",
    "# and plot it\n",
    "\n",
    "plotdf1D(less_than_1M)"
   ]
  },
  {
   "cell_type": "markdown",
   "metadata": {},
   "source": [
    "#### Just eyeballing the plot of states with fewer than 1M people, which state is closest to Vermont along the population dimension?\n",
    "\n",
    "[Type your answer here]"
   ]
  },
  {
   "cell_type": "code",
   "execution_count": null,
   "metadata": {},
   "outputs": [],
   "source": [
    "# Now lets represent each state as a 1D vector, with one dimension, for population\n",
    "\n",
    "population_vectors = df[\"population\"].to_numpy()\n",
    "\n",
    "# What is the size of \"population_vectors\"? \n",
    "\n",
    "# [answer here]\n",
    "\n",
    "# What do the rows represent in population_vectors? \n",
    "\n",
    "# [answer here]\n",
    "\n",
    "# What do the columns represent in population_vectors? \n",
    "\n",
    "# [answer here]"
   ]
  },
  {
   "cell_type": "markdown",
   "metadata": {},
   "source": [
    "#### Practice with math in Jupyter notebooks\n",
    "\n",
    "In this class, we will write a bit of math in Jupyter notebooks. \n",
    "- To write math in notebooks, you use dollar signs `$like this$`. \n",
    "- We will use bold letters to represent vectors. For instance, this represents a vector $\\boldsymbol q$ \n",
    "    - (You can double click the cell to see the dollar signs, showing how to render the symbol). \n",
    "- We will use $\\boldsymbol q_i$ to refer to component $i$ of vector $\\boldsymbol q$.\n",
    "- So if $\\boldsymbol q = <11,2,31>$ then $\\boldsymbol q_0$ = 11 and $\\boldsymbol q_2$ = 31"
   ]
  },
  {
   "cell_type": "markdown",
   "metadata": {},
   "source": [
    "Let the vector $\\boldsymbol x$ represent `population_vectors` expressed in vector notation. \n",
    "\n",
    "1. What is $\\boldsymbol x_{23}$ ? \n",
    "\n",
    "[Type your answer here]\n",
    "\n",
    "2. How would you represent the population of Colorado, using vector notation? \n",
    "\n",
    "[Type your answer here. Your answer should use vector notation, by typing dollar signs]"
   ]
  },
  {
   "cell_type": "markdown",
   "metadata": {},
   "source": [
    "### Increasing the dimensions\n",
    "\n",
    "Now let's plot the data in two dimensions instead of one"
   ]
  },
  {
   "cell_type": "code",
   "execution_count": null,
   "metadata": {},
   "outputs": [],
   "source": [
    "def plotdf2D(df_):\n",
    "    '''\n",
    "    YOU DONT NEED TO MODIFY THIS FUNCTION \n",
    "\n",
    "    This function makes a 2D scatter plot of the data, along the population dimension\n",
    "    '''\n",
    "    \n",
    "    plt.clf()\n",
    "    \n",
    "    df_ = df_.copy()\n",
    "\n",
    "    plt.scatter(df_['population'],df_[\"num_positive\"])\n",
    "    \n",
    "    plt.xlabel(\"Population (Millions)\")\n",
    "    plt.ylabel(\"# Cases\")\n",
    "    \n",
    "    # zip joins x and y coordinates in pairs\n",
    "\n",
    "\n",
    "    for x,y,z in zip(df_[\"population\"], df_[\"num_positive\"], df_[\"state/region\"]):\n",
    "\n",
    "        plt.annotate(z, # this is the text\n",
    "                     (x,y), # this is the point to label\n",
    "                     textcoords=\"offset points\", # how to position the text\n",
    "                     xytext=(0,10), # distance from text to points (x,y)\n",
    "                     ha='center') # horizontal alignment can be left, right or center\n",
    "\n",
    "    plt.show()\n"
   ]
  },
  {
   "cell_type": "markdown",
   "metadata": {},
   "source": [
    "Use the `plotdf2D` function to plot the data in two dimensions, then answer the following questions\n",
    "\n",
    "1. What state is closest to North Dakota (ND) in overall in feature space (i.e. shortest line between points)?\n",
    "\n",
    "[Type your answer here]\n",
    "\n",
    "2. What state is closest to North Dakota (ND) along the #Cases dimension?\n",
    "\n",
    "[Type your answer here]\n",
    "\n",
    "2. What state is closest to North Dakota (ND) along the Population dimension?\n",
    "\n",
    "[Type your answer here]"
   ]
  },
  {
   "cell_type": "markdown",
   "metadata": {},
   "source": [
    "#### Turning in your work \n",
    "\n",
    "For this assignment, you will turn in your .ipynb notebook file and a PDF of the notebook. Click Kernel → Restart & Run All and then click File → Download As → PDF to make a nice PDF of the notebook. Turn in both the .ipynb and .pdf files for assignment 2 on Canvas."
   ]
  }
 ],
 "metadata": {
  "kernelspec": {
   "display_name": "Python 3",
   "language": "python",
   "name": "python3"
  },
  "language_info": {
   "codemirror_mode": {
    "name": "ipython",
    "version": 3
   },
   "file_extension": ".py",
   "mimetype": "text/x-python",
   "name": "python",
   "nbconvert_exporter": "python",
   "pygments_lexer": "ipython3",
   "version": "3.8.3"
  }
 },
 "nbformat": 4,
 "nbformat_minor": 2
}
