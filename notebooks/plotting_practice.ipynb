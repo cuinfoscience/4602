{
 "cells": [
  {
   "cell_type": "markdown",
   "metadata": {},
   "source": [
    "### Plotting review\n",
    "\n",
    "In this notebook we will do a little review on plotting"
   ]
  },
  {
   "cell_type": "code",
   "execution_count": 2,
   "metadata": {},
   "outputs": [],
   "source": [
    "\n",
    "\n",
    "import numpy as np\n",
    "import pandas as pd\n",
    "import sklearn\n",
    "import matplotlib.pyplot as plt\n",
    "\n",
    "# configure matplotlib to show plots in the notebook itself\n",
    "%matplotlib inline "
   ]
  },
  {
   "cell_type": "markdown",
   "metadata": {},
   "source": [
    "### Data\n",
    "\n",
    "In this notebook, we will be using the [Pima Indians Diabetes Dataset](https://www.kaggle.com/uciml/pima-indians-diabetes-database). The data consists of patient records with a number of features, along with a binary label indicating if the patient has diabetes or does not have diabetes. Note that \"all patients here are females at least 21 years old of Pima Indian heritage.\" Note that the `outcome` variable records if a patient does or does not have diabetes."
   ]
  },
  {
   "cell_type": "code",
   "execution_count": 7,
   "metadata": {},
   "outputs": [],
   "source": [
    "df = pd.read_csv('diabetes.csv') #Load the dataset\n",
    "low_dim = df[['Glucose', 'BloodPressure']]\n",
    "labels = df[\"Outcome\"]"
   ]
  },
  {
   "cell_type": "code",
   "execution_count": 8,
   "metadata": {},
   "outputs": [
    {
     "data": {
      "text/plain": [
       "0.8226857887874837"
      ]
     },
     "execution_count": 8,
     "metadata": {},
     "output_type": "execute_result"
    }
   ],
   "source": [
    "from sklearn.neighbors import KNeighborsClassifier   # import the classifier\n",
    "\n",
    "knn = KNeighborsClassifier(n_neighbors=2)  # Instantiate the classifier object\n",
    "\n",
    "knn.fit(low_dim, labels)   # Fit the classifier \n",
    "\n",
    "knn.score(low_dim, labels)   # Report the accuracy of the classifier\n",
    "                             # The accuracy of a classifier is simply what fraction of the data it labels correctly"
   ]
  },
  {
   "cell_type": "markdown",
   "metadata": {},
   "source": [
    "#### How many objects?"
   ]
  },
  {
   "cell_type": "code",
   "execution_count": 12,
   "metadata": {},
   "outputs": [
    {
     "data": {
      "text/plain": [
       "0.7953063885267275"
      ]
     },
     "execution_count": 12,
     "metadata": {},
     "output_type": "execute_result"
    }
   ],
   "source": [
    "from sklearn.neighbors import KNeighborsClassifier\n",
    "\n",
    "knn2 = KNeighborsClassifier(n_neighbors=2)\n",
    "knn2.fit(low_dim, labels)\n",
    "knn2.score(low_dim, labels)\n",
    "\n",
    "knn3 = KNeighborsClassifier(n_neighbors=3)\n",
    "knn3.fit(low_dim, labels)\n",
    "knn3.score(low_dim, labels)\n",
    "\n",
    "knn4 = KNeighborsClassifier(n_neighbors=4)\n",
    "knn4.fit(low_dim, labels)\n",
    "knn4.score(low_dim, labels)\n",
    "\n",
    "knn5 = KNeighborsClassifier(n_neighbors=5)\n",
    "knn5.fit(low_dim, labels)\n",
    "knn5.score(low_dim, labels)"
   ]
  },
  {
   "cell_type": "code",
   "execution_count": 14,
   "metadata": {},
   "outputs": [
    {
     "data": {
      "image/png": "[encoded data removed]",
      "text/plain": [
       "<Figure size 432x288 with 1 Axes>"
      ]
     },
     "metadata": {
      "needs_background": "light"
     },
     "output_type": "display_data"
    }
   ],
   "source": [
    "#Setup arrays to store training and test accuracies\n",
    "neighbors = np.arange(1,25)\n",
    "accuracy = np.empty(len(neighbors))\n",
    "\n",
    "for i,k in enumerate(neighbors):\n",
    "    \n",
    "    #This is a new instance \n",
    "    knn = KNeighborsClassifier(n_neighbors=k)\n",
    "    \n",
    "    #Fit the model\n",
    "    knn.fit(low_dim, labels)\n",
    "    \n",
    "    #Compute accuracy\n",
    "    accuracy[i] = knn.score(low_dim, labels)\n",
    "    \n",
    "#Generate plot\n",
    "plt.title('k-NN Varying number of neighbors')\n",
    "plt.plot(neighbors, accuracy, label='Training Accuracy')\n",
    "plt.legend()\n",
    "plt.xlabel('Number of neighbors')\n",
    "plt.ylabel('Training Accuracy')\n",
    "plt.show()"
   ]
  },
  {
   "cell_type": "markdown",
   "metadata": {},
   "source": [
    "### Pandas + Altair style!"
   ]
  },
  {
   "cell_type": "code",
   "execution_count": 20,
   "metadata": {},
   "outputs": [
    {
     "data": {
      "text/html": [
       "\n",
       "<div id=\"altair-viz-7b17a3fe0a1e49278c9cc749017b1fc2\"></div>\n",
       "<script type=\"text/javascript\">\n",
       "  (function(spec, embedOpt){\n",
       "    let outputDiv = document.currentScript.previousElementSibling;\n",
       "    if (outputDiv.id !== \"altair-viz-7b17a3fe0a1e49278c9cc749017b1fc2\") {\n",
       "      outputDiv = document.getElementById(\"altair-viz-7b17a3fe0a1e49278c9cc749017b1fc2\");\n",
       "    }\n",
       "    const paths = {\n",
       "      \"vega\": \"https://cdn.jsdelivr.net/npm//vega@5?noext\",\n",
       "      \"vega-lib\": \"https://cdn.jsdelivr.net/npm//vega-lib?noext\",\n",
       "      \"vega-lite\": \"https://cdn.jsdelivr.net/npm//vega-lite@4.8.1?noext\",\n",
       "      \"vega-embed\": \"https://cdn.jsdelivr.net/npm//vega-embed@6?noext\",\n",
       "    };\n",
       "\n",
       "    function loadScript(lib) {\n",
       "      return new Promise(function(resolve, reject) {\n",
       "        var s = document.createElement('script');\n",
       "        s.src = paths[lib];\n",
       "        s.async = true;\n",
       "        s.onload = () => resolve(paths[lib]);\n",
       "        s.onerror = () => reject(`Error loading script: ${paths[lib]}`);\n",
       "        document.getElementsByTagName(\"head\")[0].appendChild(s);\n",
       "      });\n",
       "    }\n",
       "\n",
       "    function showError(err) {\n",
       "      outputDiv.innerHTML = `<div class=\"error\" style=\"color:red;\">${err}</div>`;\n",
       "      throw err;\n",
       "    }\n",
       "\n",
       "    function displayChart(vegaEmbed) {\n",
       "      vegaEmbed(outputDiv, spec, embedOpt)\n",
       "        .catch(err => showError(`Javascript Error: ${err.message}<br>This usually means there's a typo in your chart specification. See the javascript console for the full traceback.`));\n",
       "    }\n",
       "\n",
       "    if(typeof define === \"function\" && define.amd) {\n",
       "      requirejs.config({paths});\n",
       "      require([\"vega-embed\"], displayChart, err => showError(`Error loading script: ${err.message}`));\n",
       "    } else if (typeof vegaEmbed === \"function\") {\n",
       "      displayChart(vegaEmbed);\n",
       "    } else {\n",
       "      loadScript(\"vega\")\n",
       "        .then(() => loadScript(\"vega-lite\"))\n",
       "        .then(() => loadScript(\"vega-embed\"))\n",
       "        .catch(showError)\n",
       "        .then(() => displayChart(vegaEmbed));\n",
       "    }\n",
       "  })({\"config\": {\"view\": {\"continuousWidth\": 400, \"continuousHeight\": 300}}, \"data\": {\"name\": \"data-dcccfa5e4a42ca85c19d394327a19178\"}, \"mark\": \"line\", \"encoding\": {\"x\": {\"type\": \"quantitative\", \"field\": \"K\"}, \"y\": {\"type\": \"quantitative\", \"field\": \"score\"}}, \"$schema\": \"https://vega.github.io/schema/vega-lite/v4.8.1.json\", \"datasets\": {\"data-dcccfa5e4a42ca85c19d394327a19178\": [{\"score\": 0.940026075619296, \"K\": 1}, {\"score\": 0.8226857887874837, \"K\": 2}, {\"score\": 0.8213820078226858, \"K\": 3}, {\"score\": 0.7992177314211213, \"K\": 4}, {\"score\": 0.7953063885267275, \"K\": 5}, {\"score\": 0.7757496740547588, \"K\": 6}, {\"score\": 0.7861799217731421, \"K\": 7}, {\"score\": 0.7692307692307693, \"K\": 8}, {\"score\": 0.7757496740547588, \"K\": 9}, {\"score\": 0.7705345501955672, \"K\": 10}, {\"score\": 0.7653194263363755, \"K\": 11}, {\"score\": 0.7679269882659713, \"K\": 12}, {\"score\": 0.7757496740547588, \"K\": 13}, {\"score\": 0.7666232073011734, \"K\": 14}, {\"score\": 0.7666232073011734, \"K\": 15}, {\"score\": 0.757496740547588, \"K\": 16}, {\"score\": 0.758800521512386, \"K\": 17}, {\"score\": 0.7627118644067796, \"K\": 18}, {\"score\": 0.7627118644067796, \"K\": 19}, {\"score\": 0.7614080834419817, \"K\": 20}, {\"score\": 0.7614080834419817, \"K\": 21}, {\"score\": 0.7614080834419817, \"K\": 22}, {\"score\": 0.7627118644067796, \"K\": 23}, {\"score\": 0.758800521512386, \"K\": 24}]}}, {\"mode\": \"vega-lite\"});\n",
       "</script>"
      ],
      "text/plain": [
       "alt.Chart(...)"
      ]
     },
     "execution_count": 20,
     "metadata": {},
     "output_type": "execute_result"
    }
   ],
   "source": [
    "#Setup arrays to store training and test accuracies\n",
    "neighbors = np.arange(1,25)\n",
    "accuracy = np.empty(len(neighbors))\n",
    "\n",
    "results = []\n",
    "\n",
    "for i,k in enumerate(neighbors):\n",
    "    \n",
    "    #This is a new instance \n",
    "    knn = KNeighborsClassifier(n_neighbors=k)\n",
    "    \n",
    "    #Fit the model\n",
    "    knn.fit(low_dim, labels)\n",
    "    \n",
    "    #Compute accuracy\n",
    "    score = knn.score(low_dim, labels)\n",
    "    \n",
    "    results.append({\"score\": score, \"K\": k})\n",
    "    \n",
    "df = pd.DataFrame(results)\n",
    "\n",
    "import altair as alt \n",
    "\n",
    "alt.Chart(df).mark_line().encode(\n",
    "    x=\"K\",\n",
    "    y=\"score\"\n",
    ")"
   ]
  },
  {
   "cell_type": "code",
   "execution_count": null,
   "metadata": {},
   "outputs": [],
   "source": []
  }
 ],
 "metadata": {
  "kernelspec": {
   "display_name": "Python 3",
   "language": "python",
   "name": "python3"
  },
  "language_info": {
   "codemirror_mode": {
    "name": "ipython",
    "version": 3
   },
   "file_extension": ".py",
   "mimetype": "text/x-python",
   "name": "python",
   "nbconvert_exporter": "python",
   "pygments_lexer": "ipython3",
   "version": "3.8.3"
  }
 },
 "nbformat": 4,
 "nbformat_minor": 2
}
